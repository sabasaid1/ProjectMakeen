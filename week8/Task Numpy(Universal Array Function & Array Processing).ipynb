{
 "cells": [
  {
   "cell_type": "markdown",
   "id": "43a999fe",
   "metadata": {},
   "source": [
    "# Numpy (Universal Array Function)"
   ]
  },
  {
   "cell_type": "code",
   "execution_count": 1,
   "id": "b2ed0135",
   "metadata": {},
   "outputs": [],
   "source": [
    "import numpy as np"
   ]
  },
  {
   "cell_type": "code",
   "execution_count": 2,
   "id": "b02d36c3",
   "metadata": {},
   "outputs": [],
   "source": [
    "#Q1\n",
    "arr = np.random.rand(3, 3)\n",
    "\n",
    "# Compute the exponential of each element using np.exp()\n",
    "exp_arr = np.exp(arr)"
   ]
  },
  {
   "cell_type": "code",
   "execution_count": 3,
   "id": "9f46b6d9",
   "metadata": {},
   "outputs": [
    {
     "data": {
      "text/plain": [
       "array([[1.99771427, 1.56179348, 2.07169269],\n",
       "       [1.0501943 , 1.03979939, 2.28683511],\n",
       "       [2.62737358, 1.68433048, 1.77537052]])"
      ]
     },
     "execution_count": 3,
     "metadata": {},
     "output_type": "execute_result"
    }
   ],
   "source": [
    "exp_arr"
   ]
  },
  {
   "cell_type": "code",
   "execution_count": 4,
   "id": "501c01a7",
   "metadata": {},
   "outputs": [
    {
     "data": {
      "text/plain": [
       "array([[0.69200366, 0.44583483, 0.728366  ],\n",
       "       [0.0489752 , 0.0390278 , 0.82716882],\n",
       "       [0.96598471, 0.52136815, 0.57400914]])"
      ]
     },
     "execution_count": 4,
     "metadata": {},
     "output_type": "execute_result"
    }
   ],
   "source": [
    "arr"
   ]
  },
  {
   "cell_type": "code",
   "execution_count": 5,
   "id": "ba5e7b07",
   "metadata": {},
   "outputs": [],
   "source": [
    "#q2\n",
    "\n",
    "arr2 = np.random.rand(4, 4)\n",
    "\n",
    "#using np.sin()\n",
    "sin_arr = np.sin(arr2)"
   ]
  },
  {
   "cell_type": "code",
   "execution_count": 6,
   "id": "c04014aa",
   "metadata": {},
   "outputs": [
    {
     "data": {
      "text/plain": [
       "array([[0.38650962, 0.8305102 , 0.47196019, 0.79291978],\n",
       "       [0.57610067, 0.83248194, 0.77430532, 0.65956378],\n",
       "       [0.40506985, 0.17734875, 0.0466003 , 0.26671425],\n",
       "       [0.77638328, 0.58471627, 0.0752342 , 0.03012065]])"
      ]
     },
     "execution_count": 6,
     "metadata": {},
     "output_type": "execute_result"
    }
   ],
   "source": [
    "sin_arr"
   ]
  },
  {
   "cell_type": "code",
   "execution_count": 7,
   "id": "9153d2bd",
   "metadata": {},
   "outputs": [],
   "source": [
    "#q3\n",
    "\n",
    "arr3 = np.random.rand(5, 5)\n",
    "\n",
    "#using np.log()\n",
    "log_arr = np.log(arr3)"
   ]
  },
  {
   "cell_type": "code",
   "execution_count": 8,
   "id": "f4c02473",
   "metadata": {},
   "outputs": [
    {
     "data": {
      "text/plain": [
       "array([[-0.31516633, -0.04627539, -1.57480079, -0.06963614, -6.02220252],\n",
       "       [-2.1069958 , -0.49215909, -1.08008315, -1.41828649, -0.05426448],\n",
       "       [-2.08510113, -0.87202205, -2.98612214, -3.54296722, -4.01317331],\n",
       "       [-0.4843183 , -0.50110543, -0.73486767, -0.41555816, -0.12774831],\n",
       "       [-1.09422354, -1.76212363, -1.61195389, -1.28130817, -0.17900209]])"
      ]
     },
     "execution_count": 8,
     "metadata": {},
     "output_type": "execute_result"
    }
   ],
   "source": [
    "log_arr"
   ]
  },
  {
   "cell_type": "code",
   "execution_count": 9,
   "id": "eeef8c2a",
   "metadata": {},
   "outputs": [],
   "source": [
    "#Q4\n",
    "\n",
    "arr4 = np.random.rand(2, 2)\n",
    "#using np.sqrt()\n",
    "sqrt_arr = np.sqrt(arr4)"
   ]
  },
  {
   "cell_type": "code",
   "execution_count": 10,
   "id": "f44364e2",
   "metadata": {},
   "outputs": [
    {
     "data": {
      "text/plain": [
       "array([[0.99794379, 0.94094022],\n",
       "       [0.6143006 , 0.67618626]])"
      ]
     },
     "execution_count": 10,
     "metadata": {},
     "output_type": "execute_result"
    }
   ],
   "source": [
    "sqrt_arr"
   ]
  },
  {
   "cell_type": "code",
   "execution_count": 11,
   "id": "e2aead02",
   "metadata": {},
   "outputs": [],
   "source": [
    "#Q5\n",
    "arr5 = np.random.rand(6, 6)\n",
    "#np.floor()\n",
    "floor_arr = np.floor(arr5)\n"
   ]
  },
  {
   "cell_type": "code",
   "execution_count": 12,
   "id": "2e4e9a88",
   "metadata": {},
   "outputs": [
    {
     "data": {
      "text/plain": [
       "array([[0., 0., 0., 0., 0., 0.],\n",
       "       [0., 0., 0., 0., 0., 0.],\n",
       "       [0., 0., 0., 0., 0., 0.],\n",
       "       [0., 0., 0., 0., 0., 0.],\n",
       "       [0., 0., 0., 0., 0., 0.],\n",
       "       [0., 0., 0., 0., 0., 0.]])"
      ]
     },
     "execution_count": 12,
     "metadata": {},
     "output_type": "execute_result"
    }
   ],
   "source": [
    "floor_arr"
   ]
  },
  {
   "cell_type": "code",
   "execution_count": 13,
   "id": "3f10588e",
   "metadata": {},
   "outputs": [
    {
     "data": {
      "text/plain": [
       "array([[0.7476576 , 0.07748151, 0.62669607, 0.75627877, 0.69331185,\n",
       "        0.34440616],\n",
       "       [0.58397526, 0.57016974, 0.56793688, 0.72646732, 0.3304449 ,\n",
       "        0.13322167],\n",
       "       [0.33845107, 0.96229845, 0.38161038, 0.60255224, 0.05899458,\n",
       "        0.99072183],\n",
       "       [0.48947509, 0.4590879 , 0.27119662, 0.51268753, 0.11392017,\n",
       "        0.26359396],\n",
       "       [0.80446106, 0.82896515, 0.35972449, 0.96012216, 0.39144668,\n",
       "        0.08261095],\n",
       "       [0.17538645, 0.67136557, 0.4045878 , 0.80816944, 0.5725707 ,\n",
       "        0.44410456]])"
      ]
     },
     "execution_count": 13,
     "metadata": {},
     "output_type": "execute_result"
    }
   ],
   "source": [
    "arr5"
   ]
  },
  {
   "cell_type": "code",
   "execution_count": 14,
   "id": "d9fac085",
   "metadata": {},
   "outputs": [],
   "source": [
    "#Q7\n",
    "arr7 = np.random.rand(4, 4)\n",
    "\n",
    "#power of 2 using np.power()\n",
    "power_arr = np.power(arr7, 2)"
   ]
  },
  {
   "cell_type": "code",
   "execution_count": 15,
   "id": "b72ac7fe",
   "metadata": {},
   "outputs": [
    {
     "data": {
      "text/plain": [
       "array([[1.58281098e-01, 2.55514525e-01, 6.44876418e-01, 7.73703064e-04],\n",
       "       [1.34074960e-01, 5.43561126e-01, 3.60582603e-02, 5.36584290e-01],\n",
       "       [5.78404310e-01, 2.62637928e-01, 3.44630352e-01, 8.42989031e-02],\n",
       "       [1.61116366e-02, 8.17985143e-01, 1.02153175e-02, 1.46952874e-01]])"
      ]
     },
     "execution_count": 15,
     "metadata": {},
     "output_type": "execute_result"
    }
   ],
   "source": [
    "power_arr"
   ]
  },
  {
   "cell_type": "code",
   "execution_count": 16,
   "id": "778fab1f",
   "metadata": {},
   "outputs": [],
   "source": [
    "#Q8\n",
    "arr8 = np.random.randint(1, 11, size=5)\n",
    "\n",
    "# Find the largest element using np.max()\n",
    "largest_element = np.max(arr8)"
   ]
  },
  {
   "cell_type": "code",
   "execution_count": 17,
   "id": "175b20aa",
   "metadata": {},
   "outputs": [
    {
     "data": {
      "text/plain": [
       "array([ 8,  2,  1, 10,  6])"
      ]
     },
     "execution_count": 17,
     "metadata": {},
     "output_type": "execute_result"
    }
   ],
   "source": [
    "arr8"
   ]
  },
  {
   "cell_type": "code",
   "execution_count": 18,
   "id": "ba743b32",
   "metadata": {},
   "outputs": [
    {
     "data": {
      "text/plain": [
       "10"
      ]
     },
     "execution_count": 18,
     "metadata": {},
     "output_type": "execute_result"
    }
   ],
   "source": [
    "largest_element"
   ]
  },
  {
   "cell_type": "code",
   "execution_count": 19,
   "id": "dfba1851",
   "metadata": {},
   "outputs": [],
   "source": [
    "#Q9\n",
    "arr9 = np.random.random(size=10)\n",
    "\n",
    "# Round each element to the nearest integer using np.round()\n",
    "rounded_arr = np.round(arr9)"
   ]
  },
  {
   "cell_type": "code",
   "execution_count": 20,
   "id": "845eda59",
   "metadata": {},
   "outputs": [
    {
     "data": {
      "text/plain": [
       "array([0.75991067, 0.10867442, 0.49420649, 0.72073258, 0.34357842,\n",
       "       0.93466686, 0.78722228, 0.22020347, 0.35945991, 0.11388637])"
      ]
     },
     "execution_count": 20,
     "metadata": {},
     "output_type": "execute_result"
    }
   ],
   "source": [
    "arr9"
   ]
  },
  {
   "cell_type": "code",
   "execution_count": 21,
   "id": "78b7d7b4",
   "metadata": {},
   "outputs": [
    {
     "data": {
      "text/plain": [
       "array([1., 0., 0., 1., 0., 1., 1., 0., 0., 0.])"
      ]
     },
     "execution_count": 21,
     "metadata": {},
     "output_type": "execute_result"
    }
   ],
   "source": [
    "rounded_arr"
   ]
  },
  {
   "cell_type": "code",
   "execution_count": 22,
   "id": "eafede11",
   "metadata": {},
   "outputs": [],
   "source": [
    "#Q10\n",
    "arr10 = np.random.randint(1, 101, size=7)\n",
    "\n",
    "# Find the index of the largest element using np.argmax()\n",
    "index_of_largest = np.argmax(arr10)"
   ]
  },
  {
   "cell_type": "code",
   "execution_count": 23,
   "id": "234ce2f7",
   "metadata": {},
   "outputs": [
    {
     "data": {
      "text/plain": [
       "array([98, 63, 78, 58, 73, 44, 44])"
      ]
     },
     "execution_count": 23,
     "metadata": {},
     "output_type": "execute_result"
    }
   ],
   "source": [
    "arr10"
   ]
  },
  {
   "cell_type": "code",
   "execution_count": 24,
   "id": "a8b88894",
   "metadata": {},
   "outputs": [
    {
     "data": {
      "text/plain": [
       "0"
      ]
     },
     "execution_count": 24,
     "metadata": {},
     "output_type": "execute_result"
    }
   ],
   "source": [
    "index_of_largest"
   ]
  },
  {
   "cell_type": "code",
   "execution_count": 25,
   "id": "96d7e344",
   "metadata": {},
   "outputs": [],
   "source": [
    "#Q11\n",
    "arr1_11 = np.random.randint(1, 11, size=(3, 3))\n",
    "arr2_11 = np.random.randint(1, 11, size=(3, 3))\n",
    "\n",
    "# Add the two arrays together element-wise using np.add()\n",
    "arr_11 = np.add(arr1_11, arr2_11)\n"
   ]
  },
  {
   "cell_type": "code",
   "execution_count": 26,
   "id": "15b8114f",
   "metadata": {},
   "outputs": [
    {
     "data": {
      "text/plain": [
       "array([[10, 12, 16],\n",
       "       [11,  5, 18],\n",
       "       [15,  3,  8]])"
      ]
     },
     "execution_count": 26,
     "metadata": {},
     "output_type": "execute_result"
    }
   ],
   "source": [
    "arr_11"
   ]
  },
  {
   "cell_type": "code",
   "execution_count": 27,
   "id": "71e2f659",
   "metadata": {},
   "outputs": [],
   "source": [
    "#Q12\n",
    "arr12 = np.random.randint(0, 101, size=12)\n",
    "\n",
    "# Limit the values in the array to a range between 10 and 90 using np.clip()\n",
    "clipped_arr = np.clip(arr12, 10, 90)"
   ]
  },
  {
   "cell_type": "code",
   "execution_count": 28,
   "id": "0b74db67",
   "metadata": {},
   "outputs": [
    {
     "data": {
      "text/plain": [
       "array([30, 37, 86, 43, 31, 58, 55, 74, 27, 67, 33, 37])"
      ]
     },
     "execution_count": 28,
     "metadata": {},
     "output_type": "execute_result"
    }
   ],
   "source": [
    "arr12"
   ]
  },
  {
   "cell_type": "code",
   "execution_count": 29,
   "id": "256acdcc",
   "metadata": {},
   "outputs": [
    {
     "data": {
      "text/plain": [
       "array([30, 37, 86, 43, 31, 58, 55, 74, 27, 67, 33, 37])"
      ]
     },
     "execution_count": 29,
     "metadata": {},
     "output_type": "execute_result"
    }
   ],
   "source": [
    "clipped_arr"
   ]
  },
  {
   "cell_type": "markdown",
   "id": "7e4c0960",
   "metadata": {},
   "source": [
    "# Numpy (Array Processing)\n"
   ]
  },
  {
   "cell_type": "code",
   "execution_count": 31,
   "id": "d194c918",
   "metadata": {},
   "outputs": [],
   "source": [
    "#Q1:Create a NumPy array with 10 random integers between 0 and 100.\n",
    "array1 = np.random.randint(0, 100, 10)"
   ]
  },
  {
   "cell_type": "code",
   "execution_count": 32,
   "id": "a3256965",
   "metadata": {},
   "outputs": [
    {
     "data": {
      "text/plain": [
       "array([93, 12, 21, 38, 68, 51, 65, 14, 52, 25])"
      ]
     },
     "execution_count": 32,
     "metadata": {},
     "output_type": "execute_result"
    }
   ],
   "source": [
    "array1"
   ]
  },
  {
   "cell_type": "code",
   "execution_count": 33,
   "id": "32567308",
   "metadata": {},
   "outputs": [],
   "source": [
    "#Q2:Use the np.where() function to create a new array with the same shape as the previous one,\n",
    "# where values less than 50 are replaced with -1 and values greater than or equal to 50 are replaced with 1.\n",
    "new_array = np.where(original_array < 50, -1, 1)"
   ]
  },
  {
   "cell_type": "code",
   "execution_count": 34,
   "id": "2993a475",
   "metadata": {},
   "outputs": [
    {
     "data": {
      "text/plain": [
       "array([ 1,  1,  1,  1, -1, -1,  1,  1, -1, -1])"
      ]
     },
     "execution_count": 34,
     "metadata": {},
     "output_type": "execute_result"
    }
   ],
   "source": [
    "new_array"
   ]
  },
  {
   "cell_type": "code",
   "execution_count": 39,
   "id": "77a5a8b7",
   "metadata": {},
   "outputs": [
    {
     "name": "stdout",
     "output_type": "stream",
     "text": [
      "\n",
      "Mean: 43.9\n",
      "Median: 44.5\n",
      "Standard Deviation: 25.260443384865592\n"
     ]
    }
   ],
   "source": [
    "#Q3:Calculate the mean, median, and standard deviation of the original array.\n",
    "mean = np.mean(array1)\n",
    "median = np.median(array1)\n",
    "std_dev = np.std(array1)\n",
    "print(\"\\nMean:\", mean)\n",
    "print(\"Median:\", median)\n",
    "print(\"Standard Deviation:\", std_dev)"
   ]
  },
  {
   "cell_type": "code",
   "execution_count": 35,
   "id": "033f0988",
   "metadata": {},
   "outputs": [],
   "source": [
    "#q4:Create a boolean array that is True where the values in the original array are even, and False otherwise.\n",
    "even_array = array1 % 2 == 0"
   ]
  },
  {
   "cell_type": "code",
   "execution_count": 36,
   "id": "a97e50ad",
   "metadata": {},
   "outputs": [
    {
     "data": {
      "text/plain": [
       "array([False,  True, False,  True,  True, False, False,  True,  True,\n",
       "       False])"
      ]
     },
     "execution_count": 36,
     "metadata": {},
     "output_type": "execute_result"
    }
   ],
   "source": [
    "even_array"
   ]
  },
  {
   "cell_type": "code",
   "execution_count": 37,
   "id": "2d2305af",
   "metadata": {},
   "outputs": [
    {
     "data": {
      "text/plain": [
       "array([12, 14, 21, 25, 38, 51, 52, 65, 68, 93])"
      ]
     },
     "execution_count": 37,
     "metadata": {},
     "output_type": "execute_result"
    }
   ],
   "source": [
    "#Q5:Sort the original array in ascending order.\n",
    "np.sort(array1)"
   ]
  },
  {
   "cell_type": "code",
   "execution_count": 38,
   "id": "af8e62e5",
   "metadata": {},
   "outputs": [
    {
     "data": {
      "text/plain": [
       "array([12, 14, 21, 25, 38, 51, 52, 65, 68, 93])"
      ]
     },
     "execution_count": 38,
     "metadata": {},
     "output_type": "execute_result"
    }
   ],
   "source": [
    "#Q6: Find the unique values in the original array.\n",
    "np.unique(array1)"
   ]
  },
  {
   "cell_type": "code",
   "execution_count": 41,
   "id": "b4ecc2af",
   "metadata": {},
   "outputs": [
    {
     "data": {
      "text/plain": [
       "array([False,  True, False, False, False, False, False, False, False,\n",
       "       False])"
      ]
     },
     "execution_count": 41,
     "metadata": {},
     "output_type": "execute_result"
    }
   ],
   "source": [
    "#Q7: Use the np.in1d() function to create a boolean array indicating which elements of the originalarray are also present in a new array with 5 random integers between 0 and 100.\n",
    "random_array = np.random.randint(0, 100, 5)\n",
    "in1d_array = np.in1d(array1, random_array)\n",
    "in1d_array "
   ]
  },
  {
   "cell_type": "code",
   "execution_count": 42,
   "id": "768ee1df",
   "metadata": {},
   "outputs": [],
   "source": [
    "#Q8: Save the original array to a text file named \"my_array.txt\" using the np.savetxt() function.\n",
    "np.savetxt(\"my_array.txt\", array1)\n"
   ]
  },
  {
   "cell_type": "code",
   "execution_count": null,
   "id": "609ec271",
   "metadata": {},
   "outputs": [],
   "source": []
  }
 ],
 "metadata": {
  "kernelspec": {
   "display_name": "Python 3 (ipykernel)",
   "language": "python",
   "name": "python3"
  },
  "language_info": {
   "codemirror_mode": {
    "name": "ipython",
    "version": 3
   },
   "file_extension": ".py",
   "mimetype": "text/x-python",
   "name": "python",
   "nbconvert_exporter": "python",
   "pygments_lexer": "ipython3",
   "version": "3.10.9"
  }
 },
 "nbformat": 4,
 "nbformat_minor": 5
}
