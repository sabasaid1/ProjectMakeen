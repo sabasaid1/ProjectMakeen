{
 "cells": [
  {
   "cell_type": "code",
   "execution_count": 8,
   "id": "20ee66c5",
   "metadata": {},
   "outputs": [],
   "source": [
    "import numpy as np"
   ]
  },
  {
   "cell_type": "code",
   "execution_count": 2,
   "id": "a000e0ec",
   "metadata": {},
   "outputs": [],
   "source": [
    "array =  np.arange(10) "
   ]
  },
  {
   "cell_type": "code",
   "execution_count": 3,
   "id": "37168675",
   "metadata": {},
   "outputs": [
    {
     "data": {
      "text/plain": [
       "array([0, 1, 2, 3, 4, 5, 6, 7, 8, 9])"
      ]
     },
     "execution_count": 3,
     "metadata": {},
     "output_type": "execute_result"
    }
   ],
   "source": [
    "array"
   ]
  },
  {
   "cell_type": "code",
   "execution_count": 4,
   "id": "80a21ca8",
   "metadata": {},
   "outputs": [
    {
     "data": {
      "text/plain": [
       "array([[0., 0., 0.],\n",
       "       [0., 0., 0.],\n",
       "       [0., 0., 0.]])"
      ]
     },
     "execution_count": 4,
     "metadata": {},
     "output_type": "execute_result"
    }
   ],
   "source": [
    "np.zeros([3,3])"
   ]
  },
  {
   "cell_type": "code",
   "execution_count": 5,
   "id": "61e8a92e",
   "metadata": {},
   "outputs": [
    {
     "data": {
      "text/plain": [
       "array([[[1., 1., 1., 1.],\n",
       "        [1., 1., 1., 1.],\n",
       "        [1., 1., 1., 1.]],\n",
       "\n",
       "       [[1., 1., 1., 1.],\n",
       "        [1., 1., 1., 1.],\n",
       "        [1., 1., 1., 1.]]])"
      ]
     },
     "execution_count": 5,
     "metadata": {},
     "output_type": "execute_result"
    }
   ],
   "source": [
    "np.ones([2,3,4])"
   ]
  },
  {
   "cell_type": "code",
   "execution_count": 7,
   "id": "fc8a1cc3",
   "metadata": {},
   "outputs": [
    {
     "data": {
      "text/plain": [
       "array([81, 68, 32, 58, 72, 14, 92, 13, 11, 51])"
      ]
     },
     "execution_count": 7,
     "metadata": {},
     "output_type": "execute_result"
    }
   ],
   "source": [
    "np.random.randint(0,100,10) #4"
   ]
  },
  {
   "cell_type": "code",
   "execution_count": 15,
   "id": "9e96e562",
   "metadata": {},
   "outputs": [
    {
     "data": {
      "text/plain": [
       "array([0.06768087, 0.58834626, 0.30294871, 0.26013781, 0.36196409,\n",
       "       0.75771687, 0.99730998, 0.0256644 , 0.2285155 , 0.66678991])"
      ]
     },
     "execution_count": 15,
     "metadata": {},
     "output_type": "execute_result"
    }
   ],
   "source": [
    "np.random.uniform(0,1,10) #5"
   ]
  },
  {
   "cell_type": "code",
   "execution_count": 16,
   "id": "7f76fdc3",
   "metadata": {},
   "outputs": [
    {
     "data": {
      "text/plain": [
       "array([0.  , 0.25, 0.5 , 0.75, 1.  ])"
      ]
     },
     "execution_count": 16,
     "metadata": {},
     "output_type": "execute_result"
    }
   ],
   "source": [
    "np.linspace(0,1,num=5)"
   ]
  },
  {
   "cell_type": "code",
   "execution_count": 17,
   "id": "2f187579",
   "metadata": {},
   "outputs": [
    {
     "data": {
      "text/plain": [
       "array([ 0. ,  2.5,  5. ,  7.5, 10. ])"
      ]
     },
     "execution_count": 17,
     "metadata": {},
     "output_type": "execute_result"
    }
   ],
   "source": [
    "np.linspace(0,10,num=5)"
   ]
  },
  {
   "cell_type": "code",
   "execution_count": 23,
   "id": "5b0f8594",
   "metadata": {},
   "outputs": [
    {
     "data": {
      "text/plain": [
       "array([0.  , 0.25, 0.5 , 0.75, 1.  ])"
      ]
     },
     "execution_count": 23,
     "metadata": {},
     "output_type": "execute_result"
    }
   ],
   "source": [
    "np.arange(0,1.1,0.25)\n"
   ]
  },
  {
   "cell_type": "code",
   "execution_count": 24,
   "id": "0169bc93",
   "metadata": {},
   "outputs": [
    {
     "data": {
      "text/plain": [
       "array([-1.  , -0.75, -0.5 , -0.25,  0.  ,  0.25,  0.5 ,  0.75,  1.  ])"
      ]
     },
     "execution_count": 24,
     "metadata": {},
     "output_type": "execute_result"
    }
   ],
   "source": [
    "np.arange(-1,1.1,0.25)"
   ]
  },
  {
   "cell_type": "code",
   "execution_count": 28,
   "id": "5f7107bc",
   "metadata": {},
   "outputs": [
    {
     "data": {
      "text/plain": [
       "array([ 0.0000000e+00,  1.0000000e+00,  1.2246468e-16, -1.0000000e+00,\n",
       "       -2.4492936e-16])"
      ]
     },
     "execution_count": 28,
     "metadata": {},
     "output_type": "execute_result"
    }
   ],
   "source": [
    "np.sin(np.arange(0,361,90)*np.pi/180)"
   ]
  },
  {
   "cell_type": "code",
   "execution_count": 32,
   "id": "7459492b",
   "metadata": {},
   "outputs": [
    {
     "data": {
      "text/plain": [
       "array([ 0.        ,  0.89399666, -0.80115264, -0.17604595,  0.95891572])"
      ]
     },
     "execution_count": 32,
     "metadata": {},
     "output_type": "execute_result"
    }
   ],
   "source": [
    "np.sin(np.arange(0,361,90))"
   ]
  },
  {
   "cell_type": "code",
   "execution_count": 33,
   "id": "c643ddb0",
   "metadata": {},
   "outputs": [
    {
     "data": {
      "text/plain": [
       "array([  0,  90, 180, 270, 360])"
      ]
     },
     "execution_count": 33,
     "metadata": {},
     "output_type": "execute_result"
    }
   ],
   "source": [
    "np.arange(0,361,90)"
   ]
  },
  {
   "cell_type": "code",
   "execution_count": 34,
   "id": "00dfd361",
   "metadata": {},
   "outputs": [],
   "source": [
    "#E2:1\n",
    "arr1=np.array([[1,2],[8,9]])"
   ]
  },
  {
   "cell_type": "code",
   "execution_count": 35,
   "id": "a9faee84",
   "metadata": {},
   "outputs": [
    {
     "data": {
      "text/plain": [
       "array([[1, 2],\n",
       "       [8, 9]])"
      ]
     },
     "execution_count": 35,
     "metadata": {},
     "output_type": "execute_result"
    }
   ],
   "source": [
    "arr1"
   ]
  },
  {
   "cell_type": "code",
   "execution_count": 36,
   "id": "f8f8e935",
   "metadata": {},
   "outputs": [
    {
     "data": {
      "text/plain": [
       "array([[ 2,  4],\n",
       "       [16, 18]])"
      ]
     },
     "execution_count": 36,
     "metadata": {},
     "output_type": "execute_result"
    }
   ],
   "source": [
    "arr1*2"
   ]
  },
  {
   "cell_type": "code",
   "execution_count": 42,
   "id": "723fcfa9",
   "metadata": {},
   "outputs": [],
   "source": [
    "#E2:2\n",
    "arr2=np.array([[1,2,3],[8,9,10],[2,9,10]])"
   ]
  },
  {
   "cell_type": "code",
   "execution_count": 43,
   "id": "6630b47e",
   "metadata": {},
   "outputs": [
    {
     "data": {
      "text/plain": [
       "array([[ 1,  2,  3],\n",
       "       [ 8,  9, 10],\n",
       "       [ 2,  9, 10]])"
      ]
     },
     "execution_count": 43,
     "metadata": {},
     "output_type": "execute_result"
    }
   ],
   "source": [
    "arr2"
   ]
  },
  {
   "cell_type": "code",
   "execution_count": 39,
   "id": "43ef2787",
   "metadata": {},
   "outputs": [
    {
     "data": {
      "text/plain": [
       "array([[ 6,  7,  8],\n",
       "       [13, 14, 15]])"
      ]
     },
     "execution_count": 39,
     "metadata": {},
     "output_type": "execute_result"
    }
   ],
   "source": [
    "arr2+5"
   ]
  },
  {
   "cell_type": "code",
   "execution_count": 44,
   "id": "237d82b8",
   "metadata": {},
   "outputs": [],
   "source": [
    "#E2:3\n",
    "arr3=np.array([[1,2,3,4],[7,8,9,10],[2,8,2,10],[7,8,9,6]])\n",
    "\n"
   ]
  },
  {
   "cell_type": "code",
   "execution_count": 45,
   "id": "f1d364f1",
   "metadata": {},
   "outputs": [
    {
     "data": {
      "text/plain": [
       "array([[ 1,  2,  3,  4],\n",
       "       [ 7,  8,  9, 10],\n",
       "       [ 2,  8,  2, 10],\n",
       "       [ 7,  8,  9,  6]])"
      ]
     },
     "execution_count": 45,
     "metadata": {},
     "output_type": "execute_result"
    }
   ],
   "source": [
    "arr3"
   ]
  },
  {
   "cell_type": "code",
   "execution_count": 46,
   "id": "6118e057",
   "metadata": {},
   "outputs": [
    {
     "data": {
      "text/plain": [
       "array([[-9, -8, -7, -6],\n",
       "       [-3, -2, -1,  0],\n",
       "       [-8, -2, -8,  0],\n",
       "       [-3, -2, -1, -4]])"
      ]
     },
     "execution_count": 46,
     "metadata": {},
     "output_type": "execute_result"
    }
   ],
   "source": [
    "arr3-10"
   ]
  },
  {
   "cell_type": "code",
   "execution_count": 47,
   "id": "43988cd4",
   "metadata": {},
   "outputs": [],
   "source": [
    "#E2:4\n",
    "arr4=np.array([[1,2,3,4,2],[7,8,9,10,2],[2,8,2,10,2],[7,8,9,6,2],[1,2,3,2,2]])"
   ]
  },
  {
   "cell_type": "code",
   "execution_count": 48,
   "id": "7051fbb6",
   "metadata": {},
   "outputs": [
    {
     "data": {
      "text/plain": [
       "array([[ 1,  2,  3,  4,  2],\n",
       "       [ 7,  8,  9, 10,  2],\n",
       "       [ 2,  8,  2, 10,  2],\n",
       "       [ 7,  8,  9,  6,  2],\n",
       "       [ 1,  2,  3,  2,  2]])"
      ]
     },
     "execution_count": 48,
     "metadata": {},
     "output_type": "execute_result"
    }
   ],
   "source": [
    "arr4"
   ]
  },
  {
   "cell_type": "code",
   "execution_count": 49,
   "id": "42d90001",
   "metadata": {},
   "outputs": [
    {
     "data": {
      "text/plain": [
       "array([[0.5, 1. , 1.5, 2. , 1. ],\n",
       "       [3.5, 4. , 4.5, 5. , 1. ],\n",
       "       [1. , 4. , 1. , 5. , 1. ],\n",
       "       [3.5, 4. , 4.5, 3. , 1. ],\n",
       "       [0.5, 1. , 1.5, 1. , 1. ]])"
      ]
     },
     "execution_count": 49,
     "metadata": {},
     "output_type": "execute_result"
    }
   ],
   "source": [
    "arr4/2"
   ]
  },
  {
   "cell_type": "code",
   "execution_count": 50,
   "id": "7f568652",
   "metadata": {},
   "outputs": [],
   "source": [
    "#E2:5\n",
    "arr5=np.array([[1,2,3,4,2,3],[7,8,9,10,2,3],[2,8,2,10,2,5],[7,8,9,6,2,2],[1,2,3,2,2,2],[1,2,2,3,4,5]])"
   ]
  },
  {
   "cell_type": "code",
   "execution_count": 51,
   "id": "a4b66650",
   "metadata": {},
   "outputs": [
    {
     "data": {
      "text/plain": [
       "array([[ 1,  2,  3,  4,  2,  3],\n",
       "       [ 7,  8,  9, 10,  2,  3],\n",
       "       [ 2,  8,  2, 10,  2,  5],\n",
       "       [ 7,  8,  9,  6,  2,  2],\n",
       "       [ 1,  2,  3,  2,  2,  2],\n",
       "       [ 1,  2,  2,  3,  4,  5]])"
      ]
     },
     "execution_count": 51,
     "metadata": {},
     "output_type": "execute_result"
    }
   ],
   "source": [
    "arr5"
   ]
  },
  {
   "cell_type": "code",
   "execution_count": 52,
   "id": "c62541b3",
   "metadata": {},
   "outputs": [],
   "source": [
    "import math"
   ]
  },
  {
   "cell_type": "code",
   "execution_count": 55,
   "id": "355a60a5",
   "metadata": {},
   "outputs": [
    {
     "data": {
      "text/plain": [
       "array([[1.        , 1.41421356, 1.73205081, 2.        , 1.41421356,\n",
       "        1.73205081],\n",
       "       [2.64575131, 2.82842712, 3.        , 3.16227766, 1.41421356,\n",
       "        1.73205081],\n",
       "       [1.41421356, 2.82842712, 1.41421356, 3.16227766, 1.41421356,\n",
       "        2.23606798],\n",
       "       [2.64575131, 2.82842712, 3.        , 2.44948974, 1.41421356,\n",
       "        1.41421356],\n",
       "       [1.        , 1.41421356, 1.73205081, 1.41421356, 1.41421356,\n",
       "        1.41421356],\n",
       "       [1.        , 1.41421356, 1.41421356, 1.73205081, 2.        ,\n",
       "        2.23606798]])"
      ]
     },
     "execution_count": 55,
     "metadata": {},
     "output_type": "execute_result"
    }
   ],
   "source": [
    "np.sqrt(arr5)"
   ]
  },
  {
   "cell_type": "code",
   "execution_count": 56,
   "id": "1eb5e3ae",
   "metadata": {},
   "outputs": [],
   "source": [
    "#E2:6\n",
    "arr6=np.array([[1,2],[8,9]])"
   ]
  },
  {
   "cell_type": "code",
   "execution_count": 57,
   "id": "4f2ecf1d",
   "metadata": {},
   "outputs": [
    {
     "data": {
      "text/plain": [
       "array([[1, 2],\n",
       "       [8, 9]])"
      ]
     },
     "execution_count": 57,
     "metadata": {},
     "output_type": "execute_result"
    }
   ],
   "source": [
    "arr6"
   ]
  },
  {
   "cell_type": "code",
   "execution_count": 59,
   "id": "0c793b79",
   "metadata": {},
   "outputs": [
    {
     "data": {
      "text/plain": [
       "array([[17, 20],\n",
       "       [80, 97]])"
      ]
     },
     "execution_count": 59,
     "metadata": {},
     "output_type": "execute_result"
    }
   ],
   "source": [
    "np.matmul(arr6,arr6)"
   ]
  },
  {
   "cell_type": "code",
   "execution_count": 62,
   "id": "03df466b",
   "metadata": {},
   "outputs": [
    {
     "data": {
      "text/plain": [
       "array([[17, 20],\n",
       "       [80, 97]])"
      ]
     },
     "execution_count": 62,
     "metadata": {},
     "output_type": "execute_result"
    }
   ],
   "source": [
    "np.dot(arr6,arr6)"
   ]
  },
  {
   "cell_type": "code",
   "execution_count": 60,
   "id": "586ca6c2",
   "metadata": {},
   "outputs": [],
   "source": [
    "#E2:7\n",
    "arr3=np.array([[1,2,3],[8,9,10],[2,9,10]])"
   ]
  },
  {
   "cell_type": "code",
   "execution_count": 61,
   "id": "12e124c8",
   "metadata": {},
   "outputs": [
    {
     "data": {
      "text/plain": [
       "array([[ 23,  47,  53],\n",
       "       [100, 187, 214],\n",
       "       [ 94, 175, 196]])"
      ]
     },
     "execution_count": 61,
     "metadata": {},
     "output_type": "execute_result"
    }
   ],
   "source": [
    "np.dot(arr3,arr3)"
   ]
  },
  {
   "cell_type": "code",
   "execution_count": 64,
   "id": "1f0794b9",
   "metadata": {},
   "outputs": [],
   "source": [
    "#E2:8\n",
    "arr81=np.array([[1,2,2],[1,2,3]])\n",
    "arr82=np.array([[1,2],[1,2],[2,1]])\n",
    "\n"
   ]
  },
  {
   "cell_type": "code",
   "execution_count": 65,
   "id": "58e6b947",
   "metadata": {},
   "outputs": [
    {
     "data": {
      "text/plain": [
       "array([[1, 2, 2],\n",
       "       [1, 2, 3]])"
      ]
     },
     "execution_count": 65,
     "metadata": {},
     "output_type": "execute_result"
    }
   ],
   "source": [
    "arr81"
   ]
  },
  {
   "cell_type": "code",
   "execution_count": 66,
   "id": "179ba0c0",
   "metadata": {},
   "outputs": [
    {
     "data": {
      "text/plain": [
       "array([[1, 2],\n",
       "       [1, 2],\n",
       "       [2, 1]])"
      ]
     },
     "execution_count": 66,
     "metadata": {},
     "output_type": "execute_result"
    }
   ],
   "source": [
    "arr82"
   ]
  },
  {
   "cell_type": "code",
   "execution_count": 67,
   "id": "287aec2f",
   "metadata": {},
   "outputs": [
    {
     "data": {
      "text/plain": [
       "array([[7, 8],\n",
       "       [9, 9]])"
      ]
     },
     "execution_count": 67,
     "metadata": {},
     "output_type": "execute_result"
    }
   ],
   "source": [
    "np.matmul(arr81,arr82)"
   ]
  },
  {
   "cell_type": "code",
   "execution_count": null,
   "id": "c738ab63",
   "metadata": {},
   "outputs": [],
   "source": [
    "#E2:10"
   ]
  },
  {
   "cell_type": "code",
   "execution_count": null,
   "id": "413e8377",
   "metadata": {},
   "outputs": [],
   "source": [
    "#Numpy(ArrayIndexing)"
   ]
  },
  {
   "cell_type": "code",
   "execution_count": 68,
   "id": "68d73bb4",
   "metadata": {},
   "outputs": [],
   "source": [
    "#Q1\n",
    "ar1=np.arange(0,10)"
   ]
  },
  {
   "cell_type": "code",
   "execution_count": 69,
   "id": "1b81de0c",
   "metadata": {},
   "outputs": [
    {
     "data": {
      "text/plain": [
       "array([0, 1, 2, 3, 4, 5, 6, 7, 8, 9])"
      ]
     },
     "execution_count": 69,
     "metadata": {},
     "output_type": "execute_result"
    }
   ],
   "source": [
    "ar1"
   ]
  },
  {
   "cell_type": "code",
   "execution_count": 70,
   "id": "aa6e96f8",
   "metadata": {},
   "outputs": [
    {
     "data": {
      "text/plain": [
       "3"
      ]
     },
     "execution_count": 70,
     "metadata": {},
     "output_type": "execute_result"
    }
   ],
   "source": [
    "ar1[3]"
   ]
  },
  {
   "cell_type": "code",
   "execution_count": 74,
   "id": "3396a4c8",
   "metadata": {},
   "outputs": [],
   "source": [
    "#Q2\n",
    "ar2=np.random.randint(5,size=(3,3))"
   ]
  },
  {
   "cell_type": "code",
   "execution_count": 75,
   "id": "c621c4be",
   "metadata": {},
   "outputs": [
    {
     "data": {
      "text/plain": [
       "(3, 3)"
      ]
     },
     "execution_count": 75,
     "metadata": {},
     "output_type": "execute_result"
    }
   ],
   "source": [
    "ar2.shape"
   ]
  },
  {
   "cell_type": "code",
   "execution_count": 76,
   "id": "61cb935e",
   "metadata": {},
   "outputs": [
    {
     "data": {
      "text/plain": [
       "array([[3, 2, 4],\n",
       "       [0, 2, 4],\n",
       "       [1, 0, 1]])"
      ]
     },
     "execution_count": 76,
     "metadata": {},
     "output_type": "execute_result"
    }
   ],
   "source": [
    "ar2"
   ]
  },
  {
   "cell_type": "code",
   "execution_count": 78,
   "id": "560a6773",
   "metadata": {},
   "outputs": [
    {
     "data": {
      "text/plain": [
       "0"
      ]
     },
     "execution_count": 78,
     "metadata": {},
     "output_type": "execute_result"
    }
   ],
   "source": [
    "ar2[2,1]"
   ]
  },
  {
   "cell_type": "code",
   "execution_count": 95,
   "id": "9d1c5f4d",
   "metadata": {},
   "outputs": [],
   "source": [
    "#Q3\n",
    "ar3=np.random.randint(5,size=(4,4))"
   ]
  },
  {
   "cell_type": "code",
   "execution_count": 96,
   "id": "740c0ebf",
   "metadata": {},
   "outputs": [
    {
     "data": {
      "text/plain": [
       "array([[2, 2, 1, 2],\n",
       "       [2, 2, 1, 0],\n",
       "       [1, 4, 3, 3],\n",
       "       [2, 3, 0, 1]])"
      ]
     },
     "execution_count": 96,
     "metadata": {},
     "output_type": "execute_result"
    }
   ],
   "source": [
    "ar3"
   ]
  },
  {
   "cell_type": "code",
   "execution_count": 98,
   "id": "57b79be4",
   "metadata": {},
   "outputs": [
    {
     "data": {
      "text/plain": [
       "array([[1, 2],\n",
       "       [1, 0]])"
      ]
     },
     "execution_count": 98,
     "metadata": {},
     "output_type": "execute_result"
    }
   ],
   "source": [
    "ar3[:2,2:]"
   ]
  },
  {
   "cell_type": "code",
   "execution_count": 104,
   "id": "ea1abf90",
   "metadata": {},
   "outputs": [],
   "source": [
    "#Q4\n",
    "ar4=np.arange(0,10)"
   ]
  },
  {
   "cell_type": "code",
   "execution_count": 105,
   "id": "f03c2ca6",
   "metadata": {},
   "outputs": [
    {
     "data": {
      "text/plain": [
       "array([0, 1, 2, 3, 4, 5, 6, 7, 8, 9])"
      ]
     },
     "execution_count": 105,
     "metadata": {},
     "output_type": "execute_result"
    }
   ],
   "source": [
    "ar4"
   ]
  },
  {
   "cell_type": "code",
   "execution_count": 110,
   "id": "7a4de275",
   "metadata": {},
   "outputs": [],
   "source": [
    "arr_copy = ar4[0:3].copy()\n"
   ]
  },
  {
   "cell_type": "code",
   "execution_count": 111,
   "id": "a7e3d1a1",
   "metadata": {},
   "outputs": [
    {
     "data": {
      "text/plain": [
       "array([0, 1, 2])"
      ]
     },
     "execution_count": 111,
     "metadata": {},
     "output_type": "execute_result"
    }
   ],
   "source": [
    "arr_copy"
   ]
  },
  {
   "cell_type": "code",
   "execution_count": 112,
   "id": "5125e627",
   "metadata": {},
   "outputs": [],
   "source": [
    "#Q5\n",
    "ar5=np.random.randint(5,size=(3,3))\n"
   ]
  },
  {
   "cell_type": "code",
   "execution_count": 113,
   "id": "4dcb79c7",
   "metadata": {},
   "outputs": [
    {
     "data": {
      "text/plain": [
       "array([[0, 3, 4],\n",
       "       [0, 3, 3],\n",
       "       [4, 0, 4]])"
      ]
     },
     "execution_count": 113,
     "metadata": {},
     "output_type": "execute_result"
    }
   ],
   "source": [
    "ar5\n"
   ]
  },
  {
   "cell_type": "code",
   "execution_count": 115,
   "id": "488c08d3",
   "metadata": {},
   "outputs": [],
   "source": [
    "arr_copy1 = ar5[0:2,0:2].copy()"
   ]
  },
  {
   "cell_type": "code",
   "execution_count": 116,
   "id": "2beb3882",
   "metadata": {},
   "outputs": [
    {
     "data": {
      "text/plain": [
       "array([[0, 3],\n",
       "       [0, 3]])"
      ]
     },
     "execution_count": 116,
     "metadata": {},
     "output_type": "execute_result"
    }
   ],
   "source": [
    "arr_copy1"
   ]
  },
  {
   "cell_type": "code",
   "execution_count": 119,
   "id": "8c28c3e1",
   "metadata": {},
   "outputs": [],
   "source": [
    "#q6\n",
    "ar6=np.arange(0,9).reshape(3,3)"
   ]
  },
  {
   "cell_type": "code",
   "execution_count": 120,
   "id": "769414c2",
   "metadata": {},
   "outputs": [
    {
     "data": {
      "text/plain": [
       "array([[0, 1, 2],\n",
       "       [3, 4, 5],\n",
       "       [6, 7, 8]])"
      ]
     },
     "execution_count": 120,
     "metadata": {},
     "output_type": "execute_result"
    }
   ],
   "source": [
    "ar6"
   ]
  },
  {
   "cell_type": "code",
   "execution_count": 8,
   "id": "f1dd7158",
   "metadata": {},
   "outputs": [],
   "source": [
    "#q7\n",
    "\n",
    "ar7=np.random.randint(5,size=(4,4))"
   ]
  },
  {
   "cell_type": "code",
   "execution_count": 11,
   "id": "4cebf93b",
   "metadata": {},
   "outputs": [
    {
     "data": {
      "text/plain": [
       "array([4, 2, 3, 3, 4, 2, 3, 3, 4, 1, 3, 3, 4, 1, 4, 3])"
      ]
     },
     "execution_count": 11,
     "metadata": {},
     "output_type": "execute_result"
    }
   ],
   "source": [
    "ar7.reshape(-1)"
   ]
  },
  {
   "cell_type": "code",
   "execution_count": 12,
   "id": "d690b5eb",
   "metadata": {},
   "outputs": [],
   "source": [
    "#q8\n",
    "ar81=np.arange(0,4)\n",
    "ar82=np.arange(0,4)\n",
    "\n"
   ]
  },
  {
   "cell_type": "raw",
   "id": "43bfdf31",
   "metadata": {},
   "source": []
  },
  {
   "cell_type": "code",
   "execution_count": 13,
   "id": "5f47087f",
   "metadata": {},
   "outputs": [
    {
     "data": {
      "text/plain": [
       "array([0, 1, 2, 3])"
      ]
     },
     "execution_count": 13,
     "metadata": {},
     "output_type": "execute_result"
    }
   ],
   "source": [
    "ar81"
   ]
  },
  {
   "cell_type": "code",
   "execution_count": 14,
   "id": "4500c29d",
   "metadata": {},
   "outputs": [],
   "source": [
    "concatenated_array = np.concatenate((ar81, ar82))"
   ]
  },
  {
   "cell_type": "code",
   "execution_count": 15,
   "id": "48ed7a3c",
   "metadata": {},
   "outputs": [
    {
     "data": {
      "text/plain": [
       "array([0, 1, 2, 3, 0, 1, 2, 3])"
      ]
     },
     "execution_count": 15,
     "metadata": {},
     "output_type": "execute_result"
    }
   ],
   "source": [
    "concatenated_array"
   ]
  },
  {
   "cell_type": "code",
   "execution_count": 21,
   "id": "f467f548",
   "metadata": {},
   "outputs": [
    {
     "data": {
      "text/plain": [
       "array([[ 1,  2,  5,  6,  7],\n",
       "       [ 3,  4,  8,  9, 10]])"
      ]
     },
     "execution_count": 21,
     "metadata": {},
     "output_type": "execute_result"
    }
   ],
   "source": [
    "#q9\n",
    "ar91 = np.array([[1, 2], [3, 4]])\n",
    "\n",
    "ar92 = np.array([[5, 6, 7], [8, 9, 10]])\n",
    "\n",
    "# Concatenate the two arrays horizontally\n",
    "np.hstack((ar91, ar92))\n",
    "\n"
   ]
  },
  {
   "cell_type": "code",
   "execution_count": 23,
   "id": "e01c5130",
   "metadata": {},
   "outputs": [
    {
     "data": {
      "text/plain": [
       "array([[ 1,  2],\n",
       "       [ 3,  4],\n",
       "       [ 5,  6],\n",
       "       [ 7,  8],\n",
       "       [ 9, 10]])"
      ]
     },
     "execution_count": 23,
     "metadata": {},
     "output_type": "execute_result"
    }
   ],
   "source": [
    "#q10\n",
    "ar91 = np.array([[1, 2], [3, 4]])\n",
    "\n",
    "\n",
    "ar92 = np.array([[5, 6], [7, 8], [9, 10]])\n",
    "\n",
    "# Concatenate the two arrays vertical\n",
    "np.vstack((ar91, ar92))"
   ]
  },
  {
   "cell_type": "code",
   "execution_count": 92,
   "id": "d05fcd74",
   "metadata": {},
   "outputs": [],
   "source": [
    "#q11\n",
    "\n",
    "ar11=np.random.rand(4,4)"
   ]
  },
  {
   "cell_type": "code",
   "execution_count": 93,
   "id": "ecfd1377",
   "metadata": {},
   "outputs": [
    {
     "data": {
      "text/plain": [
       "array([[0.79217406, 0.32596704, 0.42787363, 0.23679492],\n",
       "       [0.41658211, 0.3236347 , 0.7948466 , 0.35867672],\n",
       "       [0.80937018, 0.51924521, 0.08335722, 0.44362801],\n",
       "       [0.11412939, 0.08603253, 0.94643019, 0.21620799]])"
      ]
     },
     "execution_count": 93,
     "metadata": {},
     "output_type": "execute_result"
    }
   ],
   "source": [
    "ar11\n"
   ]
  },
  {
   "cell_type": "code",
   "execution_count": 26,
   "id": "51a42248",
   "metadata": {},
   "outputs": [],
   "source": [
    "half1, half2 = np.split(ar11, 2)"
   ]
  },
  {
   "cell_type": "code",
   "execution_count": 27,
   "id": "f3a54cbb",
   "metadata": {},
   "outputs": [
    {
     "data": {
      "text/plain": [
       "array([[0.39501974, 0.80445885, 0.70881326, 0.45157897],\n",
       "       [0.0625333 , 0.95528033, 0.66072001, 0.03960043]])"
      ]
     },
     "execution_count": 27,
     "metadata": {},
     "output_type": "execute_result"
    }
   ],
   "source": [
    "half1"
   ]
  },
  {
   "cell_type": "code",
   "execution_count": 28,
   "id": "56897da8",
   "metadata": {},
   "outputs": [
    {
     "data": {
      "text/plain": [
       "array([[0.17103706, 0.48678533, 0.83069169, 0.07142338],\n",
       "       [0.70927676, 0.2904684 , 0.42384117, 0.61744933]])"
      ]
     },
     "execution_count": 28,
     "metadata": {},
     "output_type": "execute_result"
    }
   ],
   "source": [
    "half2"
   ]
  },
  {
   "cell_type": "code",
   "execution_count": 29,
   "id": "9d41a03b",
   "metadata": {},
   "outputs": [],
   "source": [
    "#q12 vertical\n",
    "halfv1, halfv2 = np.split(ar11, 2,axis=1)\n",
    "\n"
   ]
  },
  {
   "cell_type": "code",
   "execution_count": 30,
   "id": "361f4676",
   "metadata": {},
   "outputs": [
    {
     "data": {
      "text/plain": [
       "array([[0.39501974, 0.80445885],\n",
       "       [0.0625333 , 0.95528033],\n",
       "       [0.17103706, 0.48678533],\n",
       "       [0.70927676, 0.2904684 ]])"
      ]
     },
     "execution_count": 30,
     "metadata": {},
     "output_type": "execute_result"
    }
   ],
   "source": [
    "halfv1"
   ]
  },
  {
   "cell_type": "code",
   "execution_count": 94,
   "id": "8ca869f9",
   "metadata": {},
   "outputs": [],
   "source": [
    "#Q13\n",
    "# Split the array into four equal subarrays\n",
    "subarrays = np.split(ar11, 2, axis=0)\n",
    "subarray1, subarray2 = np.split(subarrays[0], 2, axis=1)\n",
    "subarray3, subarray4 = np.split(subarrays[1], 2, axis=1)"
   ]
  },
  {
   "cell_type": "code",
   "execution_count": 32,
   "id": "e80def67",
   "metadata": {},
   "outputs": [
    {
     "data": {
      "text/plain": [
       "array([[0.39501974, 0.80445885],\n",
       "       [0.0625333 , 0.95528033]])"
      ]
     },
     "execution_count": 32,
     "metadata": {},
     "output_type": "execute_result"
    }
   ],
   "source": [
    "subarray1"
   ]
  },
  {
   "cell_type": "code",
   "execution_count": 33,
   "id": "09f44825",
   "metadata": {},
   "outputs": [],
   "source": [
    "#q14\n",
    "ar14 = np.arange(10)\n",
    "\n",
    "# Set all odd elements to zero\n",
    "ar14[ar14 % 2 != 0] = 0"
   ]
  },
  {
   "cell_type": "code",
   "execution_count": 34,
   "id": "b4ea2d61",
   "metadata": {},
   "outputs": [
    {
     "data": {
      "text/plain": [
       "array([0, 0, 2, 0, 4, 0, 6, 0, 8, 0])"
      ]
     },
     "execution_count": 34,
     "metadata": {},
     "output_type": "execute_result"
    }
   ],
   "source": [
    "ar14"
   ]
  },
  {
   "cell_type": "code",
   "execution_count": 2,
   "id": "13fbf799",
   "metadata": {},
   "outputs": [],
   "source": [
    "#Q15\n",
    "\n",
    "ar15=np.random.rand(3,3)"
   ]
  },
  {
   "cell_type": "code",
   "execution_count": 3,
   "id": "6a8b479d",
   "metadata": {},
   "outputs": [
    {
     "data": {
      "text/plain": [
       "array([[0.84527194, 0.34983884, 0.5340606 ],\n",
       "       [0.68392847, 0.02781576, 0.92275356],\n",
       "       [0.07700893, 0.05540738, 0.25005464]])"
      ]
     },
     "execution_count": 3,
     "metadata": {},
     "output_type": "execute_result"
    }
   ],
   "source": [
    "ar15"
   ]
  },
  {
   "cell_type": "code",
   "execution_count": 6,
   "id": "d6d40f6b",
   "metadata": {
    "scrolled": true
   },
   "outputs": [
    {
     "data": {
      "text/plain": [
       "array([[0.        , 0.        , 0.        ],\n",
       "       [0.68392847, 0.02781576, 0.92275356],\n",
       "       [0.07700893, 0.05540738, 0.25005464]])"
      ]
     },
     "execution_count": 6,
     "metadata": {},
     "output_type": "execute_result"
    }
   ],
   "source": [
    "ar15[:1]=0\n",
    "ar15"
   ]
  },
  {
   "cell_type": "code",
   "execution_count": 7,
   "id": "83c651d4",
   "metadata": {},
   "outputs": [
    {
     "data": {
      "text/plain": [
       "array([[0.68392847, 0.02781576, 0.92275356],\n",
       "       [0.07700893, 0.05540738, 0.25005464]])"
      ]
     },
     "execution_count": 7,
     "metadata": {},
     "output_type": "execute_result"
    }
   ],
   "source": [
    "ar15[1:]"
   ]
  },
  {
   "cell_type": "code",
   "execution_count": 8,
   "id": "9ad11e41",
   "metadata": {},
   "outputs": [
    {
     "data": {
      "text/plain": [
       "array([[0.59621484, 0.44171695, 0.21714009],\n",
       "       [0.92870436, 0.78455673, 0.52659857],\n",
       "       [0.18723751, 0.05859758, 0.23746496]])"
      ]
     },
     "execution_count": 8,
     "metadata": {},
     "output_type": "execute_result"
    }
   ],
   "source": [
    "#16\n",
    "\n",
    "arr16=np.random.rand(3,3)\n",
    "arr16"
   ]
  },
  {
   "cell_type": "code",
   "execution_count": 16,
   "id": "1e04f24e",
   "metadata": {},
   "outputs": [],
   "source": [
    "arr16[:,2:]=0"
   ]
  },
  {
   "cell_type": "code",
   "execution_count": 17,
   "id": "a53f2c37",
   "metadata": {},
   "outputs": [
    {
     "data": {
      "text/plain": [
       "array([[0.59621484, 0.44171695, 0.        ],\n",
       "       [0.92870436, 0.78455673, 0.        ],\n",
       "       [0.18723751, 0.05859758, 0.        ]])"
      ]
     },
     "execution_count": 17,
     "metadata": {},
     "output_type": "execute_result"
    }
   ],
   "source": [
    "arr16"
   ]
  },
  {
   "cell_type": "code",
   "execution_count": 77,
   "id": "57a8c99d",
   "metadata": {},
   "outputs": [
    {
     "data": {
      "text/plain": [
       "array([[0.11380612, 0.64592148, 0.39106866],\n",
       "       [0.3676558 , 0.09611893, 0.38974361],\n",
       "       [0.64920961, 0.73185941, 0.07843484]])"
      ]
     },
     "execution_count": 77,
     "metadata": {},
     "output_type": "execute_result"
    }
   ],
   "source": [
    "#q17\n",
    "\n",
    "\n",
    "arr172=np.random.rand(3,3)\n",
    "arr172"
   ]
  },
  {
   "cell_type": "code",
   "execution_count": 79,
   "id": "30d7e34b",
   "metadata": {},
   "outputs": [],
   "source": [
    "arr172[:2,1:]=0\n"
   ]
  },
  {
   "cell_type": "code",
   "execution_count": 80,
   "id": "16143bd6",
   "metadata": {},
   "outputs": [
    {
     "data": {
      "text/plain": [
       "array([[0.11380612, 0.        , 0.        ],\n",
       "       [0.3676558 , 0.        , 0.        ],\n",
       "       [0.64920961, 0.73185941, 0.07843484]])"
      ]
     },
     "execution_count": 80,
     "metadata": {},
     "output_type": "execute_result"
    }
   ],
   "source": [
    "arr172"
   ]
  },
  {
   "cell_type": "code",
   "execution_count": 82,
   "id": "c65df146",
   "metadata": {},
   "outputs": [
    {
     "data": {
      "text/plain": [
       "array([0, 1, 2, 3, 4, 5, 6, 7, 8, 9])"
      ]
     },
     "execution_count": 82,
     "metadata": {},
     "output_type": "execute_result"
    }
   ],
   "source": [
    "#Q18\n",
    "arr18=np.arange(0,10)\n",
    "arr18"
   ]
  },
  {
   "cell_type": "code",
   "execution_count": 84,
   "id": "6cef9681",
   "metadata": {},
   "outputs": [
    {
     "data": {
      "text/plain": [
       "array([ 0,  2,  4,  6,  8, 10, 12, 14, 16, 18])"
      ]
     },
     "execution_count": 84,
     "metadata": {},
     "output_type": "execute_result"
    }
   ],
   "source": [
    "arr18_copy = arr18.copy()\n",
    "arr18_copy*2"
   ]
  },
  {
   "cell_type": "code",
   "execution_count": 85,
   "id": "282a55d8",
   "metadata": {},
   "outputs": [
    {
     "data": {
      "text/plain": [
       "array([[0.10650666, 0.26612585, 0.25729947],\n",
       "       [0.34629804, 0.08698842, 0.08613953],\n",
       "       [0.17545258, 0.07303311, 0.70256296]])"
      ]
     },
     "execution_count": 85,
     "metadata": {},
     "output_type": "execute_result"
    }
   ],
   "source": [
    "#q19\n",
    "arr19=np.random.rand(3,3)\n",
    "arr19"
   ]
  },
  {
   "cell_type": "code",
   "execution_count": 86,
   "id": "c6133f1e",
   "metadata": {},
   "outputs": [
    {
     "data": {
      "text/plain": [
       "array([[1.10650666, 1.26612585, 1.25729947],\n",
       "       [1.34629804, 1.08698842, 1.08613953],\n",
       "       [1.17545258, 1.07303311, 1.70256296]])"
      ]
     },
     "execution_count": 86,
     "metadata": {},
     "output_type": "execute_result"
    }
   ],
   "source": [
    "arr19_copy = arr19.copy()\n",
    "arr19_copy+1"
   ]
  },
  {
   "cell_type": "code",
   "execution_count": 87,
   "id": "c11fc206",
   "metadata": {},
   "outputs": [
    {
     "data": {
      "text/plain": [
       "array([[0.35628477, 0.21846055, 0.24582595],\n",
       "       [0.29318343, 0.00766624, 0.89535716],\n",
       "       [0.56260291, 0.67479614, 0.57929917]])"
      ]
     },
     "execution_count": 87,
     "metadata": {},
     "output_type": "execute_result"
    }
   ],
   "source": [
    "#q20\n",
    "arr20=np.random.rand(3,3)\n",
    "arr20"
   ]
  },
  {
   "cell_type": "code",
   "execution_count": 88,
   "id": "236652ff",
   "metadata": {},
   "outputs": [],
   "source": [
    "arr20_copy = arr20[0:2,0:2].copy()"
   ]
  },
  {
   "cell_type": "code",
   "execution_count": 95,
   "id": "d19b4d73",
   "metadata": {},
   "outputs": [
    {
     "data": {
      "text/plain": [
       "array([[0.35628477, 0.21846055],\n",
       "       [0.29318343, 0.00766624]])"
      ]
     },
     "execution_count": 95,
     "metadata": {},
     "output_type": "execute_result"
    }
   ],
   "source": [
    "arr20_copy"
   ]
  },
  {
   "cell_type": "code",
   "execution_count": null,
   "id": "68972a85",
   "metadata": {},
   "outputs": [],
   "source": []
  },
  {
   "cell_type": "code",
   "execution_count": 35,
   "id": "a0cf04a2",
   "metadata": {},
   "outputs": [
    {
     "data": {
      "text/plain": [
       "array([[ 5, 10, 15],\n",
       "       [20, 25, 30],\n",
       "       [35, 40, 45]])"
      ]
     },
     "execution_count": 35,
     "metadata": {},
     "output_type": "execute_result"
    }
   ],
   "source": [
    "arr_2d=np.array(([5,10,15],[20,25,30],[35,40,45]))\n",
    "arr_2d"
   ]
  },
  {
   "cell_type": "code",
   "execution_count": null,
   "id": "eeebc53d",
   "metadata": {},
   "outputs": [],
   "source": []
  },
  {
   "cell_type": "code",
   "execution_count": null,
   "id": "8894ae1f",
   "metadata": {},
   "outputs": [],
   "source": []
  },
  {
   "cell_type": "code",
   "execution_count": null,
   "id": "e8134e38",
   "metadata": {},
   "outputs": [],
   "source": []
  },
  {
   "cell_type": "code",
   "execution_count": null,
   "id": "d28e3daf",
   "metadata": {},
   "outputs": [],
   "source": []
  },
  {
   "cell_type": "code",
   "execution_count": 37,
   "id": "a0ea4c29",
   "metadata": {},
   "outputs": [
    {
     "data": {
      "text/plain": [
       "array([[10, 15],\n",
       "       [25, 30],\n",
       "       [40, 45]])"
      ]
     },
     "execution_count": 37,
     "metadata": {},
     "output_type": "execute_result"
    }
   ],
   "source": [
    "arr_2d[:,1:]\n"
   ]
  },
  {
   "cell_type": "code",
   "execution_count": null,
   "id": "4fecfc5f",
   "metadata": {},
   "outputs": [],
   "source": []
  },
  {
   "cell_type": "code",
   "execution_count": null,
   "id": "22d69591",
   "metadata": {},
   "outputs": [],
   "source": []
  },
  {
   "cell_type": "code",
   "execution_count": null,
   "id": "f74820f0",
   "metadata": {},
   "outputs": [],
   "source": []
  },
  {
   "cell_type": "code",
   "execution_count": null,
   "id": "41c6e01a",
   "metadata": {},
   "outputs": [],
   "source": []
  },
  {
   "cell_type": "code",
   "execution_count": null,
   "id": "033cc371",
   "metadata": {},
   "outputs": [],
   "source": []
  },
  {
   "cell_type": "code",
   "execution_count": null,
   "id": "0e98239e",
   "metadata": {},
   "outputs": [],
   "source": []
  },
  {
   "cell_type": "code",
   "execution_count": 123,
   "id": "77d484fc",
   "metadata": {},
   "outputs": [],
   "source": [
    "a1 = np.random.randn(5,5)\n"
   ]
  },
  {
   "cell_type": "code",
   "execution_count": 124,
   "id": "4eb045f2",
   "metadata": {},
   "outputs": [
    {
     "data": {
      "text/plain": [
       "array([[-0.9253603 ,  0.4456577 , -1.53527286, -1.14728287, -0.94863826],\n",
       "       [ 0.15404507,  0.25735708,  0.21267714,  2.38142493,  1.46965988],\n",
       "       [ 0.04278394,  1.35903669,  1.44238646, -0.68801381,  0.53768918],\n",
       "       [-0.07292164, -0.7439479 , -0.32154091, -0.86823044, -1.12563636],\n",
       "       [ 1.15956296,  0.78486793,  1.12373998, -1.3991615 , -1.08966686]])"
      ]
     },
     "execution_count": 124,
     "metadata": {},
     "output_type": "execute_result"
    }
   ],
   "source": [
    "a1"
   ]
  },
  {
   "cell_type": "code",
   "execution_count": 126,
   "id": "aa470154",
   "metadata": {},
   "outputs": [
    {
     "ename": "TypeError",
     "evalue": "unsupported operand type(s) for *: 'builtin_function_or_method' and 'float'",
     "output_type": "error",
     "traceback": [
      "\u001b[1;31m---------------------------------------------------------------------------\u001b[0m",
      "\u001b[1;31mTypeError\u001b[0m                                 Traceback (most recent call last)",
      "\u001b[1;32m~\\AppData\\Local\\Temp\\ipykernel_6568\\2284686384.py\u001b[0m in \u001b[0;36m<module>\u001b[1;34m\u001b[0m\n\u001b[1;32m----> 1\u001b[1;33m \u001b[0ma1\u001b[0m\u001b[1;33m.\u001b[0m\u001b[0mmean\u001b[0m\u001b[1;33m+\u001b[0m\u001b[0ma1\u001b[0m\u001b[1;33m.\u001b[0m\u001b[0mstd\u001b[0m\u001b[1;33m*\u001b[0m\u001b[0mnp\u001b[0m\u001b[1;33m.\u001b[0m\u001b[0mrandom\u001b[0m\u001b[1;33m.\u001b[0m\u001b[0mrandn\u001b[0m\u001b[1;33m(\u001b[0m\u001b[1;36m5\u001b[0m\u001b[1;33m,\u001b[0m\u001b[1;36m5\u001b[0m\u001b[1;33m)\u001b[0m\u001b[1;33m\u001b[0m\u001b[1;33m\u001b[0m\u001b[0m\n\u001b[0m",
      "\u001b[1;31mTypeError\u001b[0m: unsupported operand type(s) for *: 'builtin_function_or_method' and 'float'"
     ]
    }
   ],
   "source": [
    "a1.mean+a1.std*np.random.randn(5,5)"
   ]
  },
  {
   "cell_type": "code",
   "execution_count": 129,
   "id": "baa041bb",
   "metadata": {},
   "outputs": [
    {
     "ename": "TypeError",
     "evalue": "unsupported operand type(s) for *: 'builtin_function_or_method' and 'float'",
     "output_type": "error",
     "traceback": [
      "\u001b[1;31m---------------------------------------------------------------------------\u001b[0m",
      "\u001b[1;31mTypeError\u001b[0m                                 Traceback (most recent call last)",
      "\u001b[1;32m~\\AppData\\Local\\Temp\\ipykernel_6568\\994061740.py\u001b[0m in \u001b[0;36m<module>\u001b[1;34m\u001b[0m\n\u001b[1;32m----> 1\u001b[1;33m \u001b[0mx\u001b[0m\u001b[1;33m=\u001b[0m\u001b[0ma1\u001b[0m\u001b[1;33m.\u001b[0m\u001b[0mmean\u001b[0m\u001b[1;33m+\u001b[0m\u001b[0ma1\u001b[0m\u001b[1;33m.\u001b[0m\u001b[0mstd\u001b[0m\u001b[1;33m*\u001b[0m\u001b[0mnp\u001b[0m\u001b[1;33m.\u001b[0m\u001b[0mrandom\u001b[0m\u001b[1;33m.\u001b[0m\u001b[0mrandn\u001b[0m\u001b[1;33m(\u001b[0m\u001b[1;36m5\u001b[0m\u001b[1;33m,\u001b[0m\u001b[1;36m5\u001b[0m\u001b[1;33m)\u001b[0m\u001b[1;33m\u001b[0m\u001b[1;33m\u001b[0m\u001b[0m\n\u001b[0m",
      "\u001b[1;31mTypeError\u001b[0m: unsupported operand type(s) for *: 'builtin_function_or_method' and 'float'"
     ]
    }
   ],
   "source": [
    "x=a1.mean+a1.std*np.random.randn(5,5)"
   ]
  },
  {
   "cell_type": "code",
   "execution_count": 130,
   "id": "899afcb6",
   "metadata": {},
   "outputs": [],
   "source": [
    "mean=75"
   ]
  },
  {
   "cell_type": "code",
   "execution_count": 131,
   "id": "c9dbfce7",
   "metadata": {},
   "outputs": [],
   "source": [
    "sd=4"
   ]
  },
  {
   "cell_type": "code",
   "execution_count": 134,
   "id": "e3d7168a",
   "metadata": {},
   "outputs": [],
   "source": [
    "a2=4*np.random.randn(5,5)+75"
   ]
  },
  {
   "cell_type": "code",
   "execution_count": 135,
   "id": "9a072989",
   "metadata": {},
   "outputs": [
    {
     "data": {
      "text/plain": [
       "array([[71.94973702, 74.03484149, 72.55937916, 76.51287813, 79.11714214],\n",
       "       [71.05724007, 76.60608004, 75.50346977, 70.62192027, 78.61303042],\n",
       "       [72.49173169, 73.12672075, 81.89954566, 71.77558685, 73.38400026],\n",
       "       [73.45613554, 79.84403767, 78.19848158, 78.76971319, 75.30393051],\n",
       "       [74.95118557, 75.11860117, 73.78184344, 80.69982147, 71.89541443]])"
      ]
     },
     "execution_count": 135,
     "metadata": {},
     "output_type": "execute_result"
    }
   ],
   "source": [
    "a2"
   ]
  },
  {
   "cell_type": "code",
   "execution_count": 136,
   "id": "80cedb83",
   "metadata": {},
   "outputs": [
    {
     "name": "stdout",
     "output_type": "stream",
     "text": [
      "[-2  5  4 -8  0]\n"
     ]
    }
   ],
   "source": [
    "A=np.array([-2,5,4,-8,0])\n",
    "print(A)"
   ]
  },
  {
   "cell_type": "code",
   "execution_count": 137,
   "id": "2e8b2e9c",
   "metadata": {},
   "outputs": [
    {
     "name": "stdout",
     "output_type": "stream",
     "text": [
      "[-8 -2  0  4  5]\n",
      "[ 8  2  0 -4 -5]\n"
     ]
    }
   ],
   "source": [
    "print(np.sort(A)) #Ascending\n",
    "print(- np.sort(A)) #Descending"
   ]
  },
  {
   "cell_type": "code",
   "execution_count": 143,
   "id": "1b42ae01",
   "metadata": {},
   "outputs": [
    {
     "data": {
      "text/plain": [
       "array([ 5,  4,  0, -2, -8])"
      ]
     },
     "execution_count": 143,
     "metadata": {},
     "output_type": "execute_result"
    }
   ],
   "source": [
    "np.sort(A)[::-1]"
   ]
  },
  {
   "cell_type": "code",
   "execution_count": 145,
   "id": "71957843",
   "metadata": {},
   "outputs": [
    {
     "ename": "TypeError",
     "evalue": "sort() got an unexpected keyword argument 'reverse'",
     "output_type": "error",
     "traceback": [
      "\u001b[1;31m---------------------------------------------------------------------------\u001b[0m",
      "\u001b[1;31mTypeError\u001b[0m                                 Traceback (most recent call last)",
      "\u001b[1;32m~\\AppData\\Local\\Temp\\ipykernel_6568\\456994514.py\u001b[0m in \u001b[0;36m<module>\u001b[1;34m\u001b[0m\n\u001b[1;32m----> 1\u001b[1;33m \u001b[0mA\u001b[0m\u001b[1;33m.\u001b[0m\u001b[0msort\u001b[0m\u001b[1;33m(\u001b[0m\u001b[0mreverse\u001b[0m\u001b[1;33m=\u001b[0m\u001b[1;32mTrue\u001b[0m\u001b[1;33m)\u001b[0m\u001b[1;33m\u001b[0m\u001b[1;33m\u001b[0m\u001b[0m\n\u001b[0m",
      "\u001b[1;31mTypeError\u001b[0m: sort() got an unexpected keyword argument 'reverse'"
     ]
    }
   ],
   "source": [
    "A.sort(reverse=True)"
   ]
  },
  {
   "cell_type": "code",
   "execution_count": 148,
   "id": "f0142c06",
   "metadata": {},
   "outputs": [
    {
     "data": {
      "text/plain": [
       "array(['France', 'Germany', 'Mexico', 'Russia', 'USA'], dtype='<U7')"
      ]
     },
     "execution_count": 148,
     "metadata": {},
     "output_type": "execute_result"
    }
   ],
   "source": [
    "countries = np.array(['France', 'Germany', 'USA','Russia','USA','Mexico','Germany'])\n",
    "np.unique(countries)"
   ]
  },
  {
   "cell_type": "code",
   "execution_count": 153,
   "id": "b37246db",
   "metadata": {},
   "outputs": [
    {
     "data": {
      "text/plain": [
       "array([ True,  True, False])"
      ]
     },
     "execution_count": 153,
     "metadata": {},
     "output_type": "execute_result"
    }
   ],
   "source": [
    "np.in1d(['France','USA','Sweden'],countries)\n"
   ]
  },
  {
   "cell_type": "code",
   "execution_count": null,
   "id": "e7c8b923",
   "metadata": {},
   "outputs": [],
   "source": []
  }
 ],
 "metadata": {
  "kernelspec": {
   "display_name": "Python 3 (ipykernel)",
   "language": "python",
   "name": "python3"
  },
  "language_info": {
   "codemirror_mode": {
    "name": "ipython",
    "version": 3
   },
   "file_extension": ".py",
   "mimetype": "text/x-python",
   "name": "python",
   "nbconvert_exporter": "python",
   "pygments_lexer": "ipython3",
   "version": "3.10.9"
  }
 },
 "nbformat": 4,
 "nbformat_minor": 5
}
